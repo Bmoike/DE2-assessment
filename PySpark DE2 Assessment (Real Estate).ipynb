{
 "cells": [
  {
   "cell_type": "markdown",
   "metadata": {
    "id": "syjvhtFLj2g1"
   },
   "source": [
    "#  Real Estate (PySpark): DE2 Assessment\n",
    "## Pre-Requisites\n",
    "### Install pyspark\n"
   ]
  },
  {
   "cell_type": "code",
   "execution_count": 2,
   "metadata": {
    "colab": {
     "base_uri": "https://localhost:8080/"
    },
    "executionInfo": {
     "elapsed": 47227,
     "status": "ok",
     "timestamp": 1677518884206,
     "user": {
      "displayName": "Reza Rad",
      "userId": "10585007686252894559"
     },
     "user_tz": 300
    },
    "id": "5zNTtoFueQ4F",
    "outputId": "19667bd1-80fb-4617-8962-d827a5730eba",
    "tags": []
   },
   "outputs": [
    {
     "name": "stdout",
     "output_type": "stream",
     "text": [
      "Requirement already satisfied: pyspark in /usr/local/spark/python (3.5.0)\n",
      "Collecting py4j==0.10.9.7 (from pyspark)\n",
      "  Downloading py4j-0.10.9.7-py2.py3-none-any.whl.metadata (1.5 kB)\n",
      "Downloading py4j-0.10.9.7-py2.py3-none-any.whl (200 kB)\n",
      "\u001b[2K   \u001b[90m━━━━━━━━━━━━━━━━━━━━━━━━━━━━━━━━━━━━━━━━\u001b[0m \u001b[32m200.5/200.5 kB\u001b[0m \u001b[31m2.6 MB/s\u001b[0m eta \u001b[36m0:00:00\u001b[0ma \u001b[36m0:00:01\u001b[0m\n",
      "\u001b[?25hInstalling collected packages: py4j\n",
      "Successfully installed py4j-0.10.9.7\n",
      "Note: you may need to restart the kernel to use updated packages.\n"
     ]
    }
   ],
   "source": [
    "%pip install pyspark"
   ]
  },
  {
   "cell_type": "markdown",
   "metadata": {
    "id": "sj0MSt29kJLV"
   },
   "source": [
    "### Create a SparkSession"
   ]
  },
  {
   "cell_type": "code",
   "execution_count": 5,
   "metadata": {
    "id": "t-U2OzkteXH-",
    "scrolled": true,
    "tags": []
   },
   "outputs": [],
   "source": [
    "from pyspark.sql import SparkSession\n",
    "import pyspark.sql.functions as F"
   ]
  },
  {
   "cell_type": "code",
   "execution_count": 6,
   "metadata": {},
   "outputs": [],
   "source": [
    "spark = SparkSession.builder.appName(\"DE2\").getOrCreate()"
   ]
  },
  {
   "cell_type": "markdown",
   "metadata": {
    "id": "sbLtQUXGkwHu"
   },
   "source": [
    "## Question 1: Import the Real Estate Sales Parquet File into a Spark DataFrame object\n",
    "\n",
    "Make sure your add the `Real_Estate_Sales_2001-2020_GL.parquet` file to your current working directory"
   ]
  },
  {
   "cell_type": "code",
   "execution_count": 8,
   "metadata": {
    "id": "JfaFTUxXkwHw",
    "tags": []
   },
   "outputs": [],
   "source": [
    "file_location = './Real_Estate_Sales_2001-2020_GL.parquet'"
   ]
  },
  {
   "cell_type": "code",
   "execution_count": 9,
   "metadata": {
    "id": "cGu9USgEkwHx",
    "tags": []
   },
   "outputs": [
    {
     "name": "stdout",
     "output_type": "stream",
     "text": [
      "+-------------+---------+-------------+----------+--------------------+--------------+-----------+-----------+-------------+----------------+------------------+--------------------+-----------+--------------------+\n",
      "|serial_number|list_year|date_recorded|      town|             address|assessed_value|sale_amount|sales_ratio|property_type|residential_type|      non_use_code|    assessor_remarks|opm_remarks|            location|\n",
      "+-------------+---------+-------------+----------+--------------------+--------------+-----------+-----------+-------------+----------------+------------------+--------------------+-----------+--------------------+\n",
      "|      2020348|     2020|   09/13/2021|   Ansonia|     230 WAKELEE AVE|      150500.0|   325000.0|      0.463|   Commercial|            NULL|              NULL|                NULL|       NULL|                NULL|\n",
      "|        20002|     2020|   10/02/2020|   Ashford|     390 TURNPIKE RD|      253000.0|   430000.0|     0.5883|  Residential|   Single Family|              NULL|                NULL|       NULL|                NULL|\n",
      "|       200212|     2020|   03/09/2021|      Avon|    5 CHESTNUT DRIVE|      130400.0|   179900.0|     0.7248|  Residential|           Condo|              NULL|                NULL|       NULL|                NULL|\n",
      "|       200243|     2020|   04/13/2021|      Avon|111 NORTHINGTON D...|      619290.0|   890000.0|     0.6958|  Residential|   Single Family|              NULL|                NULL|       NULL|                NULL|\n",
      "|       200377|     2020|   07/02/2021|      Avon|  70 FAR HILLS DRIVE|      862330.0|  1447500.0|     0.5957|  Residential|   Single Family|              NULL|                NULL|       NULL|                NULL|\n",
      "|       200109|     2020|   12/09/2020|      Avon|  57 FAR HILLS DRIVE|      847520.0|  1250000.0|      0.678|  Residential|   Single Family|              NULL|                NULL|       NULL|                NULL|\n",
      "|      2020180|     2020|   03/01/2021|    Berlin| 1539 FARMINGTON AVE|      234200.0|   130000.0|     1.8015|  Residential|      Two Family|08 - Part Interest|                NULL|       NULL|                NULL|\n",
      "|      2020313|     2020|   07/01/2021|    Berlin|   216 WATCH HILL RD|      412000.0|   677500.0|     0.6081|  Residential|   Single Family|              NULL|                NULL|       NULL|                NULL|\n",
      "|       200097|     2020|   06/04/2021|   Bethany|         23 AMITY RD|      511000.0|   795000.0|     0.6427|   Commercial|            NULL|              NULL|                NULL|       NULL|                NULL|\n",
      "|        20139|     2020|   12/16/2020|    Bethel|   16 DEEPWOOD DRIVE|      171360.0|   335000.0|     0.5115|  Residential|   Single Family|              NULL|                NULL|       NULL|                NULL|\n",
      "|       200086|     2020|   08/10/2021| Bethlehem|      39 WOODLAND RD|      168900.0|   352000.0|     0.4798|  Residential|   Single Family|              NULL|                NULL|       NULL|POINT (-73.18197 ...|\n",
      "|      2000381|     2020|   09/13/2021|Bloomfield|      9 SADDLE RIDGE|      163730.0|   250000.0|     0.6549|  Residential|           Condo|              NULL|                NULL|       NULL|                NULL|\n",
      "|       200258|     2020|   01/22/2021|  Branford|34 SUNRISE COVE CAMP|      530500.0|   700000.0|     0.7578|  Residential|   Single Family|              NULL|WATERFRONT/COTTAG...|       NULL|                NULL|\n",
      "|       200804|     2020|   09/28/2021|  Branford|    119 MONTOWESE ST|      455100.0|   650000.0|     0.7001|   Commercial|            NULL|              NULL|                NULL|       NULL|                NULL|\n",
      "|       201295|     2020|   09/09/2021|   Bristol|         609 CAMP ST|      144340.0|   249900.0|     0.5775|  Residential|   Single Family|              NULL|                NULL|       NULL|                NULL|\n",
      "|       200032|     2020|   10/08/2020|   Bristol|      9 LESLIE COURT|       94920.0|   155000.0|     0.6123|  Residential|   Single Family|              NULL|                NULL|       NULL|                NULL|\n",
      "|       200354|     2020|   12/29/2020|   Bristol|      391 TIFFANY LA|      173740.0|   299000.0|      0.581|  Residential|   Single Family|              NULL|                NULL|       NULL|                NULL|\n",
      "|       200527|     2020|   03/01/2021|   Bristol|          25 WARD ST|       85680.0|   183000.0|     0.4681|  Residential|      Two Family|              NULL|                NULL|       NULL|                NULL|\n",
      "|       201212|     2020|   08/23/2021|   Bristol|     8 JENNINGS TERR|       88060.0|    91000.0|     0.9676|  Residential|   Single Family|  14 - Foreclosure|FORECLOSURE SALE ...|       NULL|                NULL|\n",
      "|     20000050|     2020|   11/05/2020|Brookfield|        4 CHELSEA CT|      105110.0|   160000.0|  0.6569375|  Residential|           Condo|              NULL|                NULL|       NULL|                NULL|\n",
      "+-------------+---------+-------------+----------+--------------------+--------------+-----------+-----------+-------------+----------------+------------------+--------------------+-----------+--------------------+\n",
      "only showing top 20 rows\n",
      "\n"
     ]
    }
   ],
   "source": [
    "# write your solution here\n",
    "df = spark.read.parquet(file_location)\n",
    "df.show()"
   ]
  },
  {
   "cell_type": "markdown",
   "metadata": {
    "id": "C7hjiY-u8F4O"
   },
   "source": [
    "## Question 2: (A) Display a list of the columns in the Spark DataFrame and then (B) print the first 5 rows "
   ]
  },
  {
   "cell_type": "code",
   "execution_count": 10,
   "metadata": {
    "colab": {
     "base_uri": "https://localhost:8080/"
    },
    "executionInfo": {
     "elapsed": 7,
     "status": "ok",
     "timestamp": 1677519931837,
     "user": {
      "displayName": "Reza Rad",
      "userId": "10585007686252894559"
     },
     "user_tz": 300
    },
    "id": "fiaAPiKM8XRr",
    "outputId": "4dcf33b6-e6ce-426b-a117-1c1ae85e9e63",
    "tags": []
   },
   "outputs": [
    {
     "name": "stdout",
     "output_type": "stream",
     "text": [
      "root\n",
      " |-- serial_number: long (nullable = true)\n",
      " |-- list_year: long (nullable = true)\n",
      " |-- date_recorded: string (nullable = true)\n",
      " |-- town: string (nullable = true)\n",
      " |-- address: string (nullable = true)\n",
      " |-- assessed_value: double (nullable = true)\n",
      " |-- sale_amount: double (nullable = true)\n",
      " |-- sales_ratio: double (nullable = true)\n",
      " |-- property_type: string (nullable = true)\n",
      " |-- residential_type: string (nullable = true)\n",
      " |-- non_use_code: string (nullable = true)\n",
      " |-- assessor_remarks: string (nullable = true)\n",
      " |-- opm_remarks: string (nullable = true)\n",
      " |-- location: string (nullable = true)\n",
      "\n"
     ]
    }
   ],
   "source": [
    "# A. list of columns\n",
    "df.printSchema()"
   ]
  },
  {
   "cell_type": "code",
   "execution_count": 11,
   "metadata": {
    "colab": {
     "base_uri": "https://localhost:8080/"
    },
    "executionInfo": {
     "elapsed": 2029,
     "status": "ok",
     "timestamp": 1677519938200,
     "user": {
      "displayName": "Reza Rad",
      "userId": "10585007686252894559"
     },
     "user_tz": 300
    },
    "id": "OeM4TdO5-pde",
    "outputId": "b264fac9-d49b-4bc9-9ef1-efc91bd7853f",
    "scrolled": true,
    "tags": []
   },
   "outputs": [
    {
     "name": "stdout",
     "output_type": "stream",
     "text": [
      "+-------------+---------+-------------+-------+--------------------+--------------+-----------+-----------+-------------+----------------+------------+----------------+-----------+--------+\n",
      "|serial_number|list_year|date_recorded|   town|             address|assessed_value|sale_amount|sales_ratio|property_type|residential_type|non_use_code|assessor_remarks|opm_remarks|location|\n",
      "+-------------+---------+-------------+-------+--------------------+--------------+-----------+-----------+-------------+----------------+------------+----------------+-----------+--------+\n",
      "|      2020348|     2020|   09/13/2021|Ansonia|     230 WAKELEE AVE|      150500.0|   325000.0|      0.463|   Commercial|            NULL|        NULL|            NULL|       NULL|    NULL|\n",
      "|        20002|     2020|   10/02/2020|Ashford|     390 TURNPIKE RD|      253000.0|   430000.0|     0.5883|  Residential|   Single Family|        NULL|            NULL|       NULL|    NULL|\n",
      "|       200212|     2020|   03/09/2021|   Avon|    5 CHESTNUT DRIVE|      130400.0|   179900.0|     0.7248|  Residential|           Condo|        NULL|            NULL|       NULL|    NULL|\n",
      "|       200243|     2020|   04/13/2021|   Avon|111 NORTHINGTON D...|      619290.0|   890000.0|     0.6958|  Residential|   Single Family|        NULL|            NULL|       NULL|    NULL|\n",
      "|       200377|     2020|   07/02/2021|   Avon|  70 FAR HILLS DRIVE|      862330.0|  1447500.0|     0.5957|  Residential|   Single Family|        NULL|            NULL|       NULL|    NULL|\n",
      "+-------------+---------+-------------+-------+--------------------+--------------+-----------+-----------+-------------+----------------+------------+----------------+-----------+--------+\n",
      "only showing top 5 rows\n",
      "\n"
     ]
    }
   ],
   "source": [
    "# B. first 5 rows\n",
    "df.show(n=5)"
   ]
  },
  {
   "cell_type": "markdown",
   "metadata": {
    "id": "1qCSUmbV8KlE"
   },
   "source": [
    "## Question 3: Convert the `date_recorded` column to a date field "
   ]
  },
  {
   "cell_type": "code",
   "execution_count": 44,
   "metadata": {
    "id": "onRlOvTq8g6S",
    "tags": []
   },
   "outputs": [
    {
     "name": "stdout",
     "output_type": "stream",
     "text": [
      "+-------------+---------+-------------+-------+--------------------+--------------+-----------+-----------+-------------+----------------+------------+----------------+-----------+--------+\n",
      "|serial_number|list_year|date_recorded|   town|             address|assessed_value|sale_amount|sales_ratio|property_type|residential_type|non_use_code|assessor_remarks|opm_remarks|location|\n",
      "+-------------+---------+-------------+-------+--------------------+--------------+-----------+-----------+-------------+----------------+------------+----------------+-----------+--------+\n",
      "|      2020348|     2020|   2021-09-13|Ansonia|     230 WAKELEE AVE|      150500.0|   325000.0|      0.463|   Commercial|            NULL|        NULL|            NULL|       NULL|    NULL|\n",
      "|        20002|     2020|   2020-10-02|Ashford|     390 TURNPIKE RD|      253000.0|   430000.0|     0.5883|  Residential|   Single Family|        NULL|            NULL|       NULL|    NULL|\n",
      "|       200212|     2020|   2021-03-09|   Avon|    5 CHESTNUT DRIVE|      130400.0|   179900.0|     0.7248|  Residential|           Condo|        NULL|            NULL|       NULL|    NULL|\n",
      "|       200243|     2020|   2021-04-13|   Avon|111 NORTHINGTON D...|      619290.0|   890000.0|     0.6958|  Residential|   Single Family|        NULL|            NULL|       NULL|    NULL|\n",
      "|       200377|     2020|   2021-07-02|   Avon|  70 FAR HILLS DRIVE|      862330.0|  1447500.0|     0.5957|  Residential|   Single Family|        NULL|            NULL|       NULL|    NULL|\n",
      "+-------------+---------+-------------+-------+--------------------+--------------+-----------+-----------+-------------+----------------+------------+----------------+-----------+--------+\n",
      "only showing top 5 rows\n",
      "\n"
     ]
    }
   ],
   "source": [
    "from pyspark.sql.functions import to_date\n",
    "\n",
    "# write your solution here\n",
    "df = df.select('serial_number'\\\n",
    "                   , 'list_year'\\\n",
    "                   , to_date(F.col('date_recorded'), 'MM/dd/yyyy').alias('date_recorded')\\\n",
    "                   , 'town'\\\n",
    "                   , 'address'\\\n",
    "                   , 'assessed_value'\\\n",
    "                   , 'sale_amount'\\\n",
    "                   , 'sales_ratio'\\\n",
    "                   , 'property_type'\\\n",
    "                   , 'residential_type'\\\n",
    "                   , 'non_use_code'\\\n",
    "                   , 'assessor_remarks'\\\n",
    "                   , 'opm_remarks'\\\n",
    "                   , 'location')\n",
    "df.show(n=5)"
   ]
  },
  {
   "cell_type": "markdown",
   "metadata": {
    "id": "I5JGFUtmhMhF"
   },
   "source": [
    "## Question 4: How many `Condo` listings are in the dataset? "
   ]
  },
  {
   "cell_type": "code",
   "execution_count": 45,
   "metadata": {
    "colab": {
     "base_uri": "https://localhost:8080/"
    },
    "executionInfo": {
     "elapsed": 859,
     "status": "ok",
     "timestamp": 1677520164152,
     "user": {
      "displayName": "Reza Rad",
      "userId": "10585007686252894559"
     },
     "user_tz": 300
    },
    "id": "swtyHNmO7WVW",
    "outputId": "c95d8566-3356-4a56-fd94-c34663742447",
    "tags": []
   },
   "outputs": [
    {
     "data": {
      "text/plain": [
       "105420"
      ]
     },
     "execution_count": 45,
     "metadata": {},
     "output_type": "execute_result"
    }
   ],
   "source": [
    "# write your solution here\n",
    "df.filter(F.col('property_type')=='Condo').count()"
   ]
  },
  {
   "cell_type": "markdown",
   "metadata": {
    "id": "azQqfaXe8LOr"
   },
   "source": [
    "## Question 5: What is the average sales price by `property_type`, sorted by most expensive to least expensive?"
   ]
  },
  {
   "cell_type": "code",
   "execution_count": 46,
   "metadata": {
    "colab": {
     "base_uri": "https://localhost:8080/"
    },
    "executionInfo": {
     "elapsed": 768,
     "status": "ok",
     "timestamp": 1677520361850,
     "user": {
      "displayName": "Reza Rad",
      "userId": "10585007686252894559"
     },
     "user_tz": 300
    },
    "id": "6yQn7wvX75i8",
    "outputId": "e92db6ef-b930-4b4a-b9ba-0deeaacca69e",
    "tags": []
   },
   "outputs": [
    {
     "name": "stdout",
     "output_type": "stream",
     "text": [
      "+--------------+-------------------+\n",
      "| property_type|        sale_amount|\n",
      "+--------------+-------------------+\n",
      "|  Three Family|  179844.5162084856|\n",
      "|    Two Family| 199044.60727090278|\n",
      "|         Condo| 260210.99107920696|\n",
      "|   Vacant Land|  295701.5733797028|\n",
      "|   Four Family|  314291.0358139535|\n",
      "|Public Utility|           369708.8|\n",
      "| Single Family| 388514.26217217103|\n",
      "|          NULL|   413434.227984552|\n",
      "|   Residential|  479356.2113586813|\n",
      "|    Commercial| 1788884.2746239274|\n",
      "|    Industrial| 2004287.4122807018|\n",
      "|    Apartments|1.283430699382716E7|\n",
      "+--------------+-------------------+\n",
      "\n"
     ]
    }
   ],
   "source": [
    "# write your solution here\n",
    "df.groupBy('property_type').agg(F.avg('sale_amount').alias('sale_amount')).orderBy('sale_amount').show()"
   ]
  },
  {
   "cell_type": "markdown",
   "metadata": {
    "id": "eUb6oG3gAiuJ"
   },
   "source": [
    "## Question 6: How many properties sold for higher than their assessed value?"
   ]
  },
  {
   "cell_type": "code",
   "execution_count": 47,
   "metadata": {
    "colab": {
     "base_uri": "https://localhost:8080/"
    },
    "executionInfo": {
     "elapsed": 545,
     "status": "ok",
     "timestamp": 1677520494168,
     "user": {
      "displayName": "Reza Rad",
      "userId": "10585007686252894559"
     },
     "user_tz": 300
    },
    "id": "F_eUwkztggad",
    "outputId": "32679824-551f-4108-a843-088bdc87759d",
    "tags": []
   },
   "outputs": [
    {
     "data": {
      "text/plain": [
       "863941"
      ]
     },
     "execution_count": 47,
     "metadata": {},
     "output_type": "execute_result"
    }
   ],
   "source": [
    "# write your solution here\n",
    "df.filter(F.col('sale_amount')>F.col('assessed_value')).count()"
   ]
  },
  {
   "cell_type": "markdown",
   "metadata": {
    "id": "I_WKpwMrhdyK"
   },
   "source": [
    "## Question 7: How have real estate sale prices changed over time?\n",
    "(This question is intentionally vague, use your creativity to intepret and answer accordingly!)"
   ]
  },
  {
   "cell_type": "code",
   "execution_count": 61,
   "metadata": {},
   "outputs": [
    {
     "name": "stdout",
     "output_type": "stream",
     "text": [
      "+-------------+-----------+\n",
      "|date_recorded|sale_amount|\n",
      "+-------------+-----------+\n",
      "|   2021-09-13|   325000.0|\n",
      "|   2020-10-02|   430000.0|\n",
      "|   2021-03-09|   179900.0|\n",
      "|   2021-04-13|   890000.0|\n",
      "|   2021-07-02|  1447500.0|\n",
      "|   2020-12-09|  1250000.0|\n",
      "|   2021-03-01|   130000.0|\n",
      "|   2021-07-01|   677500.0|\n",
      "|   2021-06-04|   795000.0|\n",
      "|   2020-12-16|   335000.0|\n",
      "|   2021-08-10|   352000.0|\n",
      "|   2021-09-13|   250000.0|\n",
      "|   2021-01-22|   700000.0|\n",
      "|   2021-09-28|   650000.0|\n",
      "|   2021-09-09|   249900.0|\n",
      "|   2020-10-08|   155000.0|\n",
      "|   2020-12-29|   299000.0|\n",
      "|   2021-03-01|   183000.0|\n",
      "|   2021-08-23|    91000.0|\n",
      "|   2020-11-05|   160000.0|\n",
      "+-------------+-----------+\n",
      "only showing top 20 rows\n",
      "\n"
     ]
    }
   ],
   "source": [
    "# pull year and sales prices\n",
    "new_df = df.select('date_recorded', 'sale_amount')\n",
    "new_df.show()"
   ]
  },
  {
   "cell_type": "code",
   "execution_count": 62,
   "metadata": {},
   "outputs": [
    {
     "name": "stdout",
     "output_type": "stream",
     "text": [
      "+----+-----------+\n",
      "|year|sale_amount|\n",
      "+----+-----------+\n",
      "|2021|   325000.0|\n",
      "|2020|   430000.0|\n",
      "|2021|   179900.0|\n",
      "|2021|   890000.0|\n",
      "|2021|  1447500.0|\n",
      "|2020|  1250000.0|\n",
      "|2021|   130000.0|\n",
      "|2021|   677500.0|\n",
      "|2021|   795000.0|\n",
      "|2020|   335000.0|\n",
      "|2021|   352000.0|\n",
      "|2021|   250000.0|\n",
      "|2021|   700000.0|\n",
      "|2021|   650000.0|\n",
      "|2021|   249900.0|\n",
      "|2020|   155000.0|\n",
      "|2020|   299000.0|\n",
      "|2021|   183000.0|\n",
      "|2021|    91000.0|\n",
      "|2020|   160000.0|\n",
      "+----+-----------+\n",
      "only showing top 20 rows\n",
      "\n"
     ]
    }
   ],
   "source": [
    "from pyspark.sql.functions import year\n",
    "new_df = new_df.withColumn('year', year('date_recorded'))\n",
    "new_df = new_df.select('year', 'sale_amount')\n",
    "new_df.show()"
   ]
  },
  {
   "cell_type": "code",
   "execution_count": 71,
   "metadata": {},
   "outputs": [
    {
     "data": {
      "text/html": [
       "<div>\n",
       "<style scoped>\n",
       "    .dataframe tbody tr th:only-of-type {\n",
       "        vertical-align: middle;\n",
       "    }\n",
       "\n",
       "    .dataframe tbody tr th {\n",
       "        vertical-align: top;\n",
       "    }\n",
       "\n",
       "    .dataframe thead th {\n",
       "        text-align: right;\n",
       "    }\n",
       "</style>\n",
       "<table border=\"1\" class=\"dataframe\">\n",
       "  <thead>\n",
       "    <tr style=\"text-align: right;\">\n",
       "      <th></th>\n",
       "      <th>year</th>\n",
       "      <th>sale_amount</th>\n",
       "    </tr>\n",
       "  </thead>\n",
       "  <tbody>\n",
       "    <tr>\n",
       "      <th>0</th>\n",
       "      <td>NaN</td>\n",
       "      <td>0.000000</td>\n",
       "    </tr>\n",
       "    <tr>\n",
       "      <th>1</th>\n",
       "      <td>1999.0</td>\n",
       "      <td>95000.000000</td>\n",
       "    </tr>\n",
       "    <tr>\n",
       "      <th>2</th>\n",
       "      <td>2001.0</td>\n",
       "      <td>222403.153453</td>\n",
       "    </tr>\n",
       "    <tr>\n",
       "      <th>3</th>\n",
       "      <td>2002.0</td>\n",
       "      <td>259165.455628</td>\n",
       "    </tr>\n",
       "    <tr>\n",
       "      <th>4</th>\n",
       "      <td>2003.0</td>\n",
       "      <td>305491.023758</td>\n",
       "    </tr>\n",
       "    <tr>\n",
       "      <th>5</th>\n",
       "      <td>2004.0</td>\n",
       "      <td>340289.282380</td>\n",
       "    </tr>\n",
       "    <tr>\n",
       "      <th>6</th>\n",
       "      <td>2005.0</td>\n",
       "      <td>379726.618191</td>\n",
       "    </tr>\n",
       "    <tr>\n",
       "      <th>7</th>\n",
       "      <td>2006.0</td>\n",
       "      <td>377261.421467</td>\n",
       "    </tr>\n",
       "    <tr>\n",
       "      <th>8</th>\n",
       "      <td>2007.0</td>\n",
       "      <td>481645.910408</td>\n",
       "    </tr>\n",
       "    <tr>\n",
       "      <th>9</th>\n",
       "      <td>2008.0</td>\n",
       "      <td>412965.585787</td>\n",
       "    </tr>\n",
       "    <tr>\n",
       "      <th>10</th>\n",
       "      <td>2009.0</td>\n",
       "      <td>324367.223771</td>\n",
       "    </tr>\n",
       "    <tr>\n",
       "      <th>11</th>\n",
       "      <td>2010.0</td>\n",
       "      <td>353688.214169</td>\n",
       "    </tr>\n",
       "    <tr>\n",
       "      <th>12</th>\n",
       "      <td>2011.0</td>\n",
       "      <td>344237.602686</td>\n",
       "    </tr>\n",
       "    <tr>\n",
       "      <th>13</th>\n",
       "      <td>2012.0</td>\n",
       "      <td>399134.953519</td>\n",
       "    </tr>\n",
       "    <tr>\n",
       "      <th>14</th>\n",
       "      <td>2013.0</td>\n",
       "      <td>410035.313545</td>\n",
       "    </tr>\n",
       "    <tr>\n",
       "      <th>15</th>\n",
       "      <td>2014.0</td>\n",
       "      <td>395638.273146</td>\n",
       "    </tr>\n",
       "    <tr>\n",
       "      <th>16</th>\n",
       "      <td>2015.0</td>\n",
       "      <td>391299.658459</td>\n",
       "    </tr>\n",
       "    <tr>\n",
       "      <th>17</th>\n",
       "      <td>2016.0</td>\n",
       "      <td>477925.685703</td>\n",
       "    </tr>\n",
       "    <tr>\n",
       "      <th>18</th>\n",
       "      <td>2017.0</td>\n",
       "      <td>390788.826369</td>\n",
       "    </tr>\n",
       "    <tr>\n",
       "      <th>19</th>\n",
       "      <td>2018.0</td>\n",
       "      <td>391118.944542</td>\n",
       "    </tr>\n",
       "    <tr>\n",
       "      <th>20</th>\n",
       "      <td>2019.0</td>\n",
       "      <td>396059.714214</td>\n",
       "    </tr>\n",
       "    <tr>\n",
       "      <th>21</th>\n",
       "      <td>2020.0</td>\n",
       "      <td>435233.689560</td>\n",
       "    </tr>\n",
       "    <tr>\n",
       "      <th>22</th>\n",
       "      <td>2021.0</td>\n",
       "      <td>656046.405455</td>\n",
       "    </tr>\n",
       "  </tbody>\n",
       "</table>\n",
       "</div>"
      ],
      "text/plain": [
       "      year    sale_amount\n",
       "0      NaN       0.000000\n",
       "1   1999.0   95000.000000\n",
       "2   2001.0  222403.153453\n",
       "3   2002.0  259165.455628\n",
       "4   2003.0  305491.023758\n",
       "5   2004.0  340289.282380\n",
       "6   2005.0  379726.618191\n",
       "7   2006.0  377261.421467\n",
       "8   2007.0  481645.910408\n",
       "9   2008.0  412965.585787\n",
       "10  2009.0  324367.223771\n",
       "11  2010.0  353688.214169\n",
       "12  2011.0  344237.602686\n",
       "13  2012.0  399134.953519\n",
       "14  2013.0  410035.313545\n",
       "15  2014.0  395638.273146\n",
       "16  2015.0  391299.658459\n",
       "17  2016.0  477925.685703\n",
       "18  2017.0  390788.826369\n",
       "19  2018.0  391118.944542\n",
       "20  2019.0  396059.714214\n",
       "21  2020.0  435233.689560\n",
       "22  2021.0  656046.405455"
      ]
     },
     "execution_count": 71,
     "metadata": {},
     "output_type": "execute_result"
    }
   ],
   "source": [
    "# group by year and avg sales amount, sort by year, then convert to pandas df\n",
    "pandas_df = new_df.groupBy('year').agg(F.avg('sale_amount').alias('sale_amount'))\\\n",
    "            .sort('year')\\\n",
    "            .toPandas()\n",
    "pandas_df"
   ]
  },
  {
   "cell_type": "code",
   "execution_count": 34,
   "metadata": {},
   "outputs": [],
   "source": [
    "import pandas as pd\n",
    "import seaborn as sns\n",
    "import matplotlib.pyplot as plt"
   ]
  },
  {
   "cell_type": "code",
   "execution_count": 74,
   "metadata": {},
   "outputs": [
    {
     "data": {
      "image/png": "[encoded data removed]",
      "text/plain": [
       "<Figure size 640x480 with 1 Axes>"
      ]
     },
     "metadata": {},
     "output_type": "display_data"
    }
   ],
   "source": [
    "sns.lineplot(pandas_df, x='year', y='sale_amount')\n",
    "plt.xlabel('Year')\n",
    "plt.ylabel('Avg Sales Amount')\n",
    "plt.title('Real Estate Price Over Time')\n",
    "plt.show()"
   ]
  },
  {
   "cell_type": "code",
   "execution_count": null,
   "metadata": {},
   "outputs": [],
   "source": []
  }
 ],
 "metadata": {
  "colab": {
   "authorship_tag": "ABX9TyNrSpfy0rZHebtgAZSvWFNv",
   "mount_file_id": "19wAcxTDatAkscN7n3RaL-SsU6xqGDYn9",
   "provenance": []
  },
  "kernelspec": {
   "display_name": "Python 3 (ipykernel)",
   "language": "python",
   "name": "python3"
  },
  "language_info": {
   "codemirror_mode": {
    "name": "ipython",
    "version": 3
   },
   "file_extension": ".py",
   "mimetype": "text/x-python",
   "name": "python",
   "nbconvert_exporter": "python",
   "pygments_lexer": "ipython3",
   "version": "3.11.6"
  }
 },
 "nbformat": 4,
 "nbformat_minor": 4
}
